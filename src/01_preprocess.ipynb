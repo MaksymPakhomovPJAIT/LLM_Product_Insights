{
 "cells": [
  {
   "cell_type": "code",
   "execution_count": 33,
   "id": "initial_id",
   "metadata": {
    "collapsed": true,
    "ExecuteTime": {
     "end_time": "2025-08-30T17:32:23.632005Z",
     "start_time": "2025-08-30T17:32:23.619478Z"
    }
   },
   "outputs": [
    {
     "data": {
      "text/plain": "(PosixPath('/Users/maksimpahomov/Data Science/P&G/src/data/raw'),\n PosixPath('/Users/maksimpahomov/Data Science/P&G/src/data/processed'))"
     },
     "execution_count": 33,
     "metadata": {},
     "output_type": "execute_result"
    }
   ],
   "source": [
    "from pathlib import Path\n",
    "import pandas as pd\n",
    "import re, json\n",
    "\n",
    "RAW = Path(\"data/raw\")\n",
    "OUT = Path(\"data/processed\")\n",
    "OUT.mkdir(parents=True, exist_ok=True)\n",
    "\n",
    "RAW.resolve(), OUT.resolve()"
   ]
  },
  {
   "cell_type": "code",
   "execution_count": 34,
   "outputs": [],
   "source": [
    "def clean_text(x: str) -> str:\n",
    "    if not isinstance(x, str):\n",
    "        x = \"\" if x is None else str(x)\n",
    "    return re.sub(r\"\\s+\", \" \", x).strip()\n",
    "\n",
    "def chunk_text(text: str, max_chars: int = 800):\n",
    "    \n",
    "    words = text.split()\n",
    "    chunks, cur, count = [], [], 0\n",
    "    for w in words:\n",
    "        if count + len(w) + 1 > max_chars:\n",
    "            if cur:\n",
    "                chunks.append(\" \".join(cur))\n",
    "            cur, count = [w], len(w) + 1\n",
    "        else:\n",
    "            cur.append(w)\n",
    "            count += len(w) + 1\n",
    "    if cur:\n",
    "        chunks.append(\" \".join(cur))\n",
    "    return chunks"
   ],
   "metadata": {
    "collapsed": false,
    "ExecuteTime": {
     "end_time": "2025-08-30T17:32:23.645962Z",
     "start_time": "2025-08-30T17:32:23.628154Z"
    }
   },
   "id": "c4b56922b679d001"
  },
  {
   "cell_type": "code",
   "execution_count": 35,
   "outputs": [
    {
     "data": {
      "text/plain": "   product_id             brand  \\\n0           1  Head & Shoulders   \n1           2              Dove   \n2           3            CeraVe   \n3           4           Pantene   \n\n                                        product_name  \\\n0           Classic Clean Dandruff Shampoo Twin Pack   \n1  Damage Therapy Shampoo Daily Moisture for Dry ...   \n2                           Gentle Hydrating Shampoo   \n3                          Shampoo & Conditioner Set   \n\n                                         description  \n0  Confidence looks good on you with Head & Shoul...  \n1  Feel free and confident with beautifully hydra...  \n2  Introducing the CeraVe Gentle Hydrating Shampo...  \n3  LUXURY HAIR REPAIR WITHOUT THE LUXURY PRICE. P...  ",
      "text/html": "<div>\n<style scoped>\n    .dataframe tbody tr th:only-of-type {\n        vertical-align: middle;\n    }\n\n    .dataframe tbody tr th {\n        vertical-align: top;\n    }\n\n    .dataframe thead th {\n        text-align: right;\n    }\n</style>\n<table border=\"1\" class=\"dataframe\">\n  <thead>\n    <tr style=\"text-align: right;\">\n      <th></th>\n      <th>product_id</th>\n      <th>brand</th>\n      <th>product_name</th>\n      <th>description</th>\n    </tr>\n  </thead>\n  <tbody>\n    <tr>\n      <th>0</th>\n      <td>1</td>\n      <td>Head &amp; Shoulders</td>\n      <td>Classic Clean Dandruff Shampoo Twin Pack</td>\n      <td>Confidence looks good on you with Head &amp; Shoul...</td>\n    </tr>\n    <tr>\n      <th>1</th>\n      <td>2</td>\n      <td>Dove</td>\n      <td>Damage Therapy Shampoo Daily Moisture for Dry ...</td>\n      <td>Feel free and confident with beautifully hydra...</td>\n    </tr>\n    <tr>\n      <th>2</th>\n      <td>3</td>\n      <td>CeraVe</td>\n      <td>Gentle Hydrating Shampoo</td>\n      <td>Introducing the CeraVe Gentle Hydrating Shampo...</td>\n    </tr>\n    <tr>\n      <th>3</th>\n      <td>4</td>\n      <td>Pantene</td>\n      <td>Shampoo &amp; Conditioner Set</td>\n      <td>LUXURY HAIR REPAIR WITHOUT THE LUXURY PRICE. P...</td>\n    </tr>\n  </tbody>\n</table>\n</div>"
     },
     "execution_count": 35,
     "metadata": {},
     "output_type": "execute_result"
    }
   ],
   "source": [
    "desc_df = pd.read_csv(RAW / \"product_descriptions.csv\")\n",
    "brand_map = dict(zip(desc_df[\"product_id\"], desc_df[\"brand\"]))\n",
    "desc_df"
   ],
   "metadata": {
    "collapsed": false,
    "ExecuteTime": {
     "end_time": "2025-08-30T17:32:23.647296Z",
     "start_time": "2025-08-30T17:32:23.634471Z"
    }
   },
   "id": "7233a08a12ab76f9"
  },
  {
   "cell_type": "code",
   "execution_count": 36,
   "outputs": [
    {
     "data": {
      "text/plain": "    product_id  rating                                              title  \\\n0            1       5  Great Value, Trusted Quality – My Go-To for a ...   \n1            1       5                                  Great for my locs   \n2            1       5                               Shampoo- Great Deal!   \n3            1       5                                  Best shampoo ever   \n4            1       5                                 Excellent product.   \n5            1       4         Great for dry hair, but not for oily scalp   \n6            2       5                                    GREAT product!!   \n7            2       5                               Pleasantly Surprised   \n8            2       5                                   Reasonable price   \n9            2       5                           Effective and affordable   \n10           2       4                                               Okay   \n11           2       5                                       lovely scent   \n12           3       5  It works! Better than Head & Shoulders w/ Zinc...   \n13           3       5  Finally, a Shampoo That Cleans Without Strippi...   \n14           3       5                    No more sand like grit on scalp   \n15           3       4                              Low foam, very gentle   \n16           3       5                                        A good wash   \n17           3       5                            Great Hydrating Shampoo   \n18           4       5                       A good buy, top tier product   \n19           4       5                                 Shiny healthy hair   \n20           4       5  Excellent Shampoo & Fantastic Subscribe & Save...   \n21           4       5                        Great shampoo & conditioner   \n22           4       4     Luxury-Level Softness Without the Luxury Price   \n23           4       5                                    My hair is soft   \n\n                                                 text  \\\n0   I've been using the Head & Shoulders Shampoo a...   \n1   Great shampoo, no itch. Cooling and tingly sen...   \n2   Works exactly as expected-reliable, clean scen...   \n3   About 2 years ago I started having an itchy sc...   \n4   No more itchy scalp.Not harsh.Nice price point...   \n5   This shampoo works really well if you have dry...   \n6   Only washed my hair with it once. But Holy Mol...   \n7   I bought both the Dove 'daily moisture' shampo...   \n8   Love the shampoo & how soft my hair is after w...   \n9   This is a great hair care line! Dove has formu...   \n10  God value for money, but the smell is to stron...   \n11             smells great and keeps your hair soft!   \n12  Wow! Saved my scalp and hair! I have 1/2a/2b h...   \n13  Calmed My Scalp, Balanced Oil, and Didn’t Trig...   \n14  I kept getting sebum plugs or something that c...   \n15  I might have loved this shampoo more a few yea...   \n16  Surprised I like it so much. I generally trust...   \n17  Not much to say besides that it's a great sham...   \n18  Removes grease and is easy to use, leaves your...   \n19  Written by account holders wife. I love this s...   \n20  We've been using the Pantene Pro-V Smooth & Sl...   \n21  Been using this product for years! Makes my ha...   \n22  I’ve used everything from drugstore staples to...   \n23  Nice scent and hydrates my hair. Huge bottle f...   \n\n                                                  url  \n0   https://www.amazon.com/gp/customer-reviews/R1N...  \n1   https://www.amazon.com/gp/customer-reviews/R1U...  \n2   https://www.amazon.com/gp/customer-reviews/R3K...  \n3   https://www.amazon.com/gp/customer-reviews/RDG...  \n4   https://www.amazon.com/gp/customer-reviews/RCP...  \n5   https://www.amazon.com/gp/customer-reviews/R1P...  \n6   https://www.amazon.com/gp/customer-reviews/R60...  \n7   https://www.amazon.com/gp/customer-reviews/R2E...  \n8   https://www.amazon.com/gp/customer-reviews/R2W...  \n9   https://www.amazon.com/gp/customer-reviews/R33...  \n10  https://www.amazon.com/gp/customer-reviews/R1T...  \n11  https://www.amazon.com/gp/customer-reviews/RNE...  \n12  https://www.amazon.com/gp/customer-reviews/R3N...  \n13  https://www.amazon.com/gp/customer-reviews/R3I...  \n14  https://www.amazon.com/gp/customer-reviews/R1C...  \n15  https://www.amazon.com/gp/customer-reviews/R21...  \n16   https://www.amazon.com/gp/customer-reviews/R1...  \n17  https://www.amazon.com/gp/customer-reviews/R3I...  \n18  https://www.amazon.com/gp/customer-reviews/R1N...  \n19  https://www.amazon.com/gp/customer-reviews/R1T...  \n20  https://www.amazon.com/gp/customer-reviews/RSZ...  \n21  https://www.amazon.com/gp/customer-reviews/R19...  \n22  https://www.amazon.com/gp/customer-reviews/RLL...  \n23  https://www.amazon.com/Pantene-Conditioner-Tre...  ",
      "text/html": "<div>\n<style scoped>\n    .dataframe tbody tr th:only-of-type {\n        vertical-align: middle;\n    }\n\n    .dataframe tbody tr th {\n        vertical-align: top;\n    }\n\n    .dataframe thead th {\n        text-align: right;\n    }\n</style>\n<table border=\"1\" class=\"dataframe\">\n  <thead>\n    <tr style=\"text-align: right;\">\n      <th></th>\n      <th>product_id</th>\n      <th>rating</th>\n      <th>title</th>\n      <th>text</th>\n      <th>url</th>\n    </tr>\n  </thead>\n  <tbody>\n    <tr>\n      <th>0</th>\n      <td>1</td>\n      <td>5</td>\n      <td>Great Value, Trusted Quality – My Go-To for a ...</td>\n      <td>I've been using the Head &amp; Shoulders Shampoo a...</td>\n      <td>https://www.amazon.com/gp/customer-reviews/R1N...</td>\n    </tr>\n    <tr>\n      <th>1</th>\n      <td>1</td>\n      <td>5</td>\n      <td>Great for my locs</td>\n      <td>Great shampoo, no itch. Cooling and tingly sen...</td>\n      <td>https://www.amazon.com/gp/customer-reviews/R1U...</td>\n    </tr>\n    <tr>\n      <th>2</th>\n      <td>1</td>\n      <td>5</td>\n      <td>Shampoo- Great Deal!</td>\n      <td>Works exactly as expected-reliable, clean scen...</td>\n      <td>https://www.amazon.com/gp/customer-reviews/R3K...</td>\n    </tr>\n    <tr>\n      <th>3</th>\n      <td>1</td>\n      <td>5</td>\n      <td>Best shampoo ever</td>\n      <td>About 2 years ago I started having an itchy sc...</td>\n      <td>https://www.amazon.com/gp/customer-reviews/RDG...</td>\n    </tr>\n    <tr>\n      <th>4</th>\n      <td>1</td>\n      <td>5</td>\n      <td>Excellent product.</td>\n      <td>No more itchy scalp.Not harsh.Nice price point...</td>\n      <td>https://www.amazon.com/gp/customer-reviews/RCP...</td>\n    </tr>\n    <tr>\n      <th>5</th>\n      <td>1</td>\n      <td>4</td>\n      <td>Great for dry hair, but not for oily scalp</td>\n      <td>This shampoo works really well if you have dry...</td>\n      <td>https://www.amazon.com/gp/customer-reviews/R1P...</td>\n    </tr>\n    <tr>\n      <th>6</th>\n      <td>2</td>\n      <td>5</td>\n      <td>GREAT product!!</td>\n      <td>Only washed my hair with it once. But Holy Mol...</td>\n      <td>https://www.amazon.com/gp/customer-reviews/R60...</td>\n    </tr>\n    <tr>\n      <th>7</th>\n      <td>2</td>\n      <td>5</td>\n      <td>Pleasantly Surprised</td>\n      <td>I bought both the Dove 'daily moisture' shampo...</td>\n      <td>https://www.amazon.com/gp/customer-reviews/R2E...</td>\n    </tr>\n    <tr>\n      <th>8</th>\n      <td>2</td>\n      <td>5</td>\n      <td>Reasonable price</td>\n      <td>Love the shampoo &amp; how soft my hair is after w...</td>\n      <td>https://www.amazon.com/gp/customer-reviews/R2W...</td>\n    </tr>\n    <tr>\n      <th>9</th>\n      <td>2</td>\n      <td>5</td>\n      <td>Effective and affordable</td>\n      <td>This is a great hair care line! Dove has formu...</td>\n      <td>https://www.amazon.com/gp/customer-reviews/R33...</td>\n    </tr>\n    <tr>\n      <th>10</th>\n      <td>2</td>\n      <td>4</td>\n      <td>Okay</td>\n      <td>God value for money, but the smell is to stron...</td>\n      <td>https://www.amazon.com/gp/customer-reviews/R1T...</td>\n    </tr>\n    <tr>\n      <th>11</th>\n      <td>2</td>\n      <td>5</td>\n      <td>lovely scent</td>\n      <td>smells great and keeps your hair soft!</td>\n      <td>https://www.amazon.com/gp/customer-reviews/RNE...</td>\n    </tr>\n    <tr>\n      <th>12</th>\n      <td>3</td>\n      <td>5</td>\n      <td>It works! Better than Head &amp; Shoulders w/ Zinc...</td>\n      <td>Wow! Saved my scalp and hair! I have 1/2a/2b h...</td>\n      <td>https://www.amazon.com/gp/customer-reviews/R3N...</td>\n    </tr>\n    <tr>\n      <th>13</th>\n      <td>3</td>\n      <td>5</td>\n      <td>Finally, a Shampoo That Cleans Without Strippi...</td>\n      <td>Calmed My Scalp, Balanced Oil, and Didn’t Trig...</td>\n      <td>https://www.amazon.com/gp/customer-reviews/R3I...</td>\n    </tr>\n    <tr>\n      <th>14</th>\n      <td>3</td>\n      <td>5</td>\n      <td>No more sand like grit on scalp</td>\n      <td>I kept getting sebum plugs or something that c...</td>\n      <td>https://www.amazon.com/gp/customer-reviews/R1C...</td>\n    </tr>\n    <tr>\n      <th>15</th>\n      <td>3</td>\n      <td>4</td>\n      <td>Low foam, very gentle</td>\n      <td>I might have loved this shampoo more a few yea...</td>\n      <td>https://www.amazon.com/gp/customer-reviews/R21...</td>\n    </tr>\n    <tr>\n      <th>16</th>\n      <td>3</td>\n      <td>5</td>\n      <td>A good wash</td>\n      <td>Surprised I like it so much. I generally trust...</td>\n      <td>https://www.amazon.com/gp/customer-reviews/R1...</td>\n    </tr>\n    <tr>\n      <th>17</th>\n      <td>3</td>\n      <td>5</td>\n      <td>Great Hydrating Shampoo</td>\n      <td>Not much to say besides that it's a great sham...</td>\n      <td>https://www.amazon.com/gp/customer-reviews/R3I...</td>\n    </tr>\n    <tr>\n      <th>18</th>\n      <td>4</td>\n      <td>5</td>\n      <td>A good buy, top tier product</td>\n      <td>Removes grease and is easy to use, leaves your...</td>\n      <td>https://www.amazon.com/gp/customer-reviews/R1N...</td>\n    </tr>\n    <tr>\n      <th>19</th>\n      <td>4</td>\n      <td>5</td>\n      <td>Shiny healthy hair</td>\n      <td>Written by account holders wife. I love this s...</td>\n      <td>https://www.amazon.com/gp/customer-reviews/R1T...</td>\n    </tr>\n    <tr>\n      <th>20</th>\n      <td>4</td>\n      <td>5</td>\n      <td>Excellent Shampoo &amp; Fantastic Subscribe &amp; Save...</td>\n      <td>We've been using the Pantene Pro-V Smooth &amp; Sl...</td>\n      <td>https://www.amazon.com/gp/customer-reviews/RSZ...</td>\n    </tr>\n    <tr>\n      <th>21</th>\n      <td>4</td>\n      <td>5</td>\n      <td>Great shampoo &amp; conditioner</td>\n      <td>Been using this product for years! Makes my ha...</td>\n      <td>https://www.amazon.com/gp/customer-reviews/R19...</td>\n    </tr>\n    <tr>\n      <th>22</th>\n      <td>4</td>\n      <td>4</td>\n      <td>Luxury-Level Softness Without the Luxury Price</td>\n      <td>I’ve used everything from drugstore staples to...</td>\n      <td>https://www.amazon.com/gp/customer-reviews/RLL...</td>\n    </tr>\n    <tr>\n      <th>23</th>\n      <td>4</td>\n      <td>5</td>\n      <td>My hair is soft</td>\n      <td>Nice scent and hydrates my hair. Huge bottle f...</td>\n      <td>https://www.amazon.com/Pantene-Conditioner-Tre...</td>\n    </tr>\n  </tbody>\n</table>\n</div>"
     },
     "execution_count": 36,
     "metadata": {},
     "output_type": "execute_result"
    }
   ],
   "source": [
    "reviews_df = pd.read_csv(RAW / \"reviews.csv\")\n",
    "reviews_df"
   ],
   "metadata": {
    "collapsed": false,
    "ExecuteTime": {
     "end_time": "2025-08-30T17:32:23.655824Z",
     "start_time": "2025-08-30T17:32:23.642340Z"
    }
   },
   "id": "2c5fd00479076372"
  },
  {
   "cell_type": "code",
   "execution_count": 37,
   "outputs": [
    {
     "data": {
      "text/plain": "37"
     },
     "execution_count": 37,
     "metadata": {},
     "output_type": "execute_result"
    }
   ],
   "source": [
    "records = []\n",
    "\n",
    "for _, row in desc_df.iterrows():\n",
    "    desc_chunks = chunk_text(clean_text(row[\"description\"]), max_chars=2000)\n",
    "    for i, ch in enumerate(desc_chunks):\n",
    "        records.append({\n",
    "            \"id\": f\"{row['product_id']}_desc_{i}\",\n",
    "            \"product_id\": row[\"product_id\"],\n",
    "            \"brand\": row[\"brand\"],\n",
    "            \"source\": \"description\",\n",
    "            \"content\": ch\n",
    "        })\n",
    "\n",
    "for ridx, row in reviews_df.iterrows():\n",
    "    text_chunks = chunk_text(clean_text(row[\"text\"]), max_chars=900)\n",
    "    brand = brand_map.get(row[\"product_id\"], \"?\")\n",
    "    for j, ch in enumerate(text_chunks):\n",
    "        records.append({\n",
    "            \"id\": f\"{row['product_id']}_rev_{ridx}_{j}\",\n",
    "            \"product_id\": row[\"product_id\"],\n",
    "            \"brand\": brand,   # 👈 add brand here\n",
    "            \"source\": \"review\",\n",
    "            \"rating\": int(row[\"rating\"]) if \"rating\" in row and pd.notna(row[\"rating\"]) else None,\n",
    "            \"content\": ch\n",
    "        })\n",
    "\n",
    "len(records)"
   ],
   "metadata": {
    "collapsed": false,
    "ExecuteTime": {
     "end_time": "2025-08-30T17:32:23.662222Z",
     "start_time": "2025-08-30T17:32:23.659918Z"
    }
   },
   "id": "689402408be0941b"
  },
  {
   "cell_type": "code",
   "execution_count": 38,
   "outputs": [
    {
     "data": {
      "text/plain": "[{'id': '1_desc_0',\n  'product_id': 1,\n  'brand': 'Head & Shoulders',\n  'source': 'description',\n  'content': \"Confidence looks good on you with Head & Shoulders Classic Clean Anti-Dandruff Shampoo. The rich-lathering formula delivers proven protection from flakes, itch, oil and dryness* and is brought to you by America’s #1 dandruff shampoo brand.† This formula is gentle enough on hair for daily use—even for color-treated hair—and is the perfect first step in your daily haircare routine, so you can start every day with your head held high. *flakes and itch associated with dandruff †based on volume sales Regular use of Head & Shoulders anti dandruff products nourish your scalp three surface layers deep to prevent dryness, flakes and itch, associated with dandruff. The Head & Shoulders collection includes clarifying shampoos, volumizing conditioners, and 2 in 1 combos, so you can introduce dandruff treatment to every step of your hair care routine. With a pH-balanced formula brought to you by America's #1 dermatologist recommended brand, you can count on Head & Shoulders to combat seborrheic dermatitis, and other irritable and itchy scalp conditions associated with dandruff. Head & Shoulders products come in a variety of scents and formulas, and include ingredients like almond oil, tea tree oil, lemon extract, and peppermint. The shampoo & conditioner system are safe to use on color treated, curly or textured hair types, compared to a non-conditioning shampoo.\"},\n {'id': '2_desc_0',\n  'product_id': 2,\n  'brand': 'Dove',\n  'source': 'description',\n  'content': 'Feel free and confident with beautifully hydrated hair. Revive your locks with ultimate hydration with Dove Daily Moisture Shampoo. This nourishing formula works in harmony with your hair for 100% smoothness*. Dove Daily Moisture Shampoo begins our 3-step regimen towards smoother, healthier looking hair. Use it regularly with Dove Daily Moisture Conditioner and complement it with Dove Hyaluronic Moisture Mask for extra hair repair and 100 hours of hydration*. Our Daily Moisture range* is enriched with Hyaluronic Serum, known to visibly moisturize, restore fluidity and soften hair and also features Bio-Protein Care technology, designed to regenerate hair strength and refill it with 1 trillion strength protein builders with every wash. Dove Daily Moisture hair products are ideal for dry hair. This formula leaves your hair soft, smooth and manageable from the 1st use. Apply this Dove Daily Moisture Shampoo onto wet hair, lather and rinse before using the Dove Daily Moisture Conditioner. Use together with the Dove Hyaluronic Moisture Mask as a hair treatment for dry hair once a week for maximum benefits. As always, Dove hair products are vegan and PETA-approved, meaning it’s not tested on animals globally. Discover hair freedom and free yourself from the worry of hair damage—embracing a new dawn of hair possibilities now. *with 3 step system *shampoo, conditioner/mask & serum'},\n {'id': '3_desc_0',\n  'product_id': 3,\n  'brand': 'CeraVe',\n  'source': 'description',\n  'content': \"Introducing the CeraVe Gentle Hydrating Shampoo, hair care solution developed with dermatologists to ensure the gentle care for your scalp and hair. This shampoo is formulated to cleanse your hair without disrupting your scalp barrier, making it an ideal choice for those with sensitive scalp. Shampoo for women and men. The CeraVe Gentle Hydrating Shampoo is an allergy-tested formula. Shampoo is free from sulfates, MIT, dyes, parabens, and fragrances, ensuring a gentle yet effective cleansing experience. It is suitable for all hair types, including various curl patterns and color-treated hair. This gentle shampoo removes buildup from the scalp and hair while maintaining moisture, leaving your hair looking healthy and feeling soft. Shampoo with three skin-identical ceramides, niacinamide, and hyaluronic acid , helps support the scalp's natural barrier and maintain moisture balance. Can be used as a shampoo for color treated hair. This moisturizing shampoo is pH balanced and is designed to be gentle on both the scalp and hair, making it suitable for daily use For best results, use the CeraVe Gentle Hydrating Shampoo with the CeraVe Gentle Hydrating Conditioner. This combination will leave your hair feeling soft, nourished, and moisturized. Hair care for women and men. To use, apply the shampoo to wet hair and scalp, massage into a rich lather, and rinse thoroughly. Follow with the conditioner for best results. Avoid direct contact with eyes, and if contact occurs, rinse thoroughly with water. Experience the difference with CeraVe Gentle Hydrating Shampoo, where science meets care, providing you with a gentle yet effective solution for maintaining healthy looking, beautiful hair. *In a consumer test, after one use of gentle hydrating shampoo + conditioner **system vs. non-conditioning shampoo\"},\n {'id': '4_desc_0',\n  'product_id': 4,\n  'brand': 'Pantene',\n  'source': 'description',\n  'content': 'LUXURY HAIR REPAIR WITHOUT THE LUXURY PRICE. Pantene Daily Moisture Dual Pack + Rescue Shot contains a shampoo and conditioner to cleanses and hydrate parched hair by removing dirt and impurities while moisturizing your locks for softness and manageability. Plus, a Miracle Rescue Intense Rescue Shot to help deeply repair signs of hair damage.This nutrient-rich set features the Pro-V antioxidant, histidine, that goes deep into hair’s core to protect existing bonds by reducing free radical damage. These moisturizing products are safe for color treated hair and won’t weigh your hair down, leaving you with strong, healthy strands. With Pantene Pro-V Daily Moisture Renewal Shampoo and Conditioner + Rescue Shot, say goodbye to dry locks and unleash soft, hydrated hair that looks and feels beautiful. Some believe deep hair repair takes money. At Pantene, we know it takes science.TO USE Massage Pro-V Shampoo into your hair, making sure to pay special attention to your scalp. Rinse thoroughly. Follow with Pro-V Conditioner, paying special attention to your ends. Rinse. This color-safe shampoo and conditioner is gentle enough for everyday use on chemically treated hair or color-treated hair and results last for 72+ hours without washing. For strands in need of extra moisture and repair follow with the Pantene Miracle Rescue Intense Rescue Shot. To apply, dispense the ampoule into hand and massage into damp hair from mid-lengths to ends. Rinse thoroughly for visibly healthy hair.'},\n {'id': '1_rev_0_0',\n  'product_id': 1,\n  'brand': 'Head & Shoulders',\n  'source': 'review',\n  'rating': 5,\n  'content': \"I've been using the Head & Shoulders Shampoo and Conditioner Set for years, and it never disappoints. This set is a fantastic value—you get both products for a very affordable price, especially compared to buying them separately at the store.The quality is top-notch. The shampoo cleans thoroughly without drying out my scalp, and the conditioner leaves my hair soft, manageable, and never greasy. It’s one of the few products that actually helps prevent flakes and itch while still making your hair feel and smell great.This set is a staple in our home—it works for the whole family, and it’s perfect for daily use. If you’re looking for an effective, affordable, and reliable hair care solution, this is it. Highly recommend!\"},\n {'id': '1_rev_1_0',\n  'product_id': 1,\n  'brand': 'Head & Shoulders',\n  'source': 'review',\n  'rating': 5,\n  'content': 'Great shampoo, no itch. Cooling and tingly sensation. Continuous use of at least twice a week and flakes will go away forever.'},\n {'id': '1_rev_2_0',\n  'product_id': 1,\n  'brand': 'Head & Shoulders',\n  'source': 'review',\n  'rating': 5,\n  'content': 'Works exactly as expected-reliable, clean scent, and keeps dandruff under control. The twin pack is a great value and lasts a long time. Came nicely packaged. No Leaks.'},\n {'id': '1_rev_3_0',\n  'product_id': 1,\n  'brand': 'Head & Shoulders',\n  'source': 'review',\n  'rating': 5,\n  'content': \"About 2 years ago I started having an itchy scalp. Never had this ever before. This shampoo did the trick. Who knew Head & Shoulders was such a great product. This shampoo smells great - very fresh. It is thick and leaves my hair feeling thick and great and clean. I will never go back to expensive salon shampoos. I follow up with a Klorane plant based purple conditioner but this is only to brighten my grays. H&S leaves my hair feeling great if I don't use conditioner but I like the brightness the purple conditioner brings to my gray.\"},\n {'id': '1_rev_4_0',\n  'product_id': 1,\n  'brand': 'Head & Shoulders',\n  'source': 'review',\n  'rating': 5,\n  'content': 'No more itchy scalp.Not harsh.Nice price point vs retail.'},\n {'id': '1_rev_5_0',\n  'product_id': 1,\n  'brand': 'Head & Shoulders',\n  'source': 'review',\n  'rating': 4,\n  'content': 'This shampoo works really well if you have dry or damaged hair — it leaves my hair feeling soft, smooth, and hydrated. The scent is nice but not overpowering, and a little goes a long way. That said, if you have an oily scalp like I do, it might not be the best fit. I noticed my hair got greasy faster than usual. I think it’s better suited for people with dry or frizzy hair who need extra moisture.Overall, it’s a great product — just depends on your hair type!'},\n {'id': '2_rev_6_0',\n  'product_id': 2,\n  'brand': 'Dove',\n  'source': 'review',\n  'rating': 5,\n  'content': 'Only washed my hair with it once. But Holy Moly!! What a great job it did with my hair. It was dry and brittle beforehand. One wash and it feels like it was freshly washed and cut. No more brittle ends. Can’t wait to see what it’ll be like after a few more washes.'},\n {'id': '2_rev_7_0',\n  'product_id': 2,\n  'brand': 'Dove',\n  'source': 'review',\n  'rating': 5,\n  'content': \"I bought both the Dove 'daily moisture' shampoo and the Dove 'daily moisturizer' conditioner. I chose this specific formula because I have thick, wavy hair that gets quite dry - and this line (according to the product description) is 'designed for dry hair.'PROS - the pumps make for easy dispensing of both the shampoo & the conditioner. The conditioner is easy to distinguish from the shampoo because it has a gold band along the pump's top. The scent of both products is fresh and clean but not overpowering. My hair felt well-moisturized and did lay slightly softer than normal once it was air-dried. The price is amazing. The amount of product you get for the price is amazing. The shampoo has a high lather and the conditioner feels silky smooth. CONS - That I did not discover this Dove line sooner!\"},\n {'id': '2_rev_8_0',\n  'product_id': 2,\n  'brand': 'Dove',\n  'source': 'review',\n  'rating': 5,\n  'content': 'Love the shampoo & how soft my hair is after washing it'},\n {'id': '2_rev_9_0',\n  'product_id': 2,\n  'brand': 'Dove',\n  'source': 'review',\n  'rating': 5,\n  'content': 'This is a great hair care line! Dove has formulas that clean and nourish hair at a drugstore price. To me, this performs better than the salon formulas that are sulfate-free. I alternate Dove with Garnier, Head n Shoulders, L’Oréal, or Herbal Essences and my hair has never looked or felt better. My one caveat with all Dove products: the scent is strong. It smells very clean, like laundry detergent, and it lasts all day long. I like it, but if you’re sensitive to fragrance, you might have to skip this line.'},\n {'id': '2_rev_10_0',\n  'product_id': 2,\n  'brand': 'Dove',\n  'source': 'review',\n  'rating': 4,\n  'content': 'God value for money, but the smell is to strong for my taste, I had to put it on my spare bathroom'},\n {'id': '2_rev_11_0',\n  'product_id': 2,\n  'brand': 'Dove',\n  'source': 'review',\n  'rating': 5,\n  'content': 'smells great and keeps your hair soft!'},\n {'id': '3_rev_12_0',\n  'product_id': 3,\n  'brand': 'CeraVe',\n  'source': 'review',\n  'rating': 5,\n  'content': \"Wow! Saved my scalp and hair! I have 1/2a/2b hair—fine, medium density, low porosity, and protein sensitive, with a very sensitive scalp. I used to use Head & Shoulders (I tried everything they offer) or Dove’s Dryness & Itch Relief dandruff shampoo. Both contain zinc pyrithione, and heavy-handed synthetic-smelling fragrance. Yuck. They both also left this gross residue on my hair, where my hair felt both dry and greasy. Double yuck. And my head would still get itchy by the next day! Triple yuck! So... not exactly a win-win for any part of my head. But I'd tried so many shampoos and these were the best options :( On the other hand, this CeraVe Hydrating Shampoo is fragrance-free, doesn’t contain zinc pyrithione and leaves my scalp itch-free all day, every day (!!!) and my hair clean and bouncy. I don’t know how they did it, but I’m so grateful!!! 🙏 You have no idea. I was going insane\"},\n {'id': '3_rev_12_1',\n  'product_id': 3,\n  'brand': 'CeraVe',\n  'source': 'review',\n  'rating': 5,\n  'content': \"trying to find something that would work for me. I tried SO MANY shampoos and conditioners. I thought Target was going to ban me from how many I had tried and returned. CeraVe also worked well in both hard and soft water for me. Obviously it performed better in soft water, but in hard water I successfully paired it with a clarifying shampoo and chelator (as needed): L’Oréal’s Hard Water Clarifying Shampoo and MalibuC Hard Water packets. I had to be careful with that combo though. It did a great job at stripping my hair clean, but if I used it too often, it absolutely wrecked my scalp. I now have softened water, and I pair the CeraVe shampoo with L'Oreal's Curl Conditioner or L'Oreal's Restore Conditioner (aka their hard water conditioner) and that's been working very well for me. If I need to clarify every so often, I just shampoo twice with the CeraVe shampoo, and that does the trick.\"},\n {'id': '3_rev_12_2',\n  'product_id': 3,\n  'brand': 'CeraVe',\n  'source': 'review',\n  'rating': 5,\n  'content': 'Anywho, I recommend giving this shampoo a shot! Hope it works for you too! And CeraVe.... DO NOT STOP MAKING THIS AND DO NOT CHANGE THE FORMULA.'},\n {'id': '3_rev_13_0',\n  'product_id': 3,\n  'brand': 'CeraVe',\n  'source': 'review',\n  'rating': 5,\n  'content': 'Calmed My Scalp, Balanced Oil, and Didn’t Trigger Hair Loss – A Truly Gentle Formula That Works. I’ve been using the CeraVe Gentle Hydrating Shampoo daily for about 4 weeks, and it’s exceeded expectations in every category that matters especially for someone like me with a sensitive scalp, thinning hair, and a tendency toward oiliness. Since switching to this shampoo, I’ve noticed fewer hairs in the drain and on my brush, which is a big deal for me. My scalp feels healthier and less inflamed, which I suspect is helping with hair retention. I usually need to wash my hair daily because of oil buildup, but this shampoo has balanced my scalp’s oil production. My hair stays fresher for longer, and I can now go 2 full days without it looking greasy a first for me. There is no added fragrance, which I appreciate. It smells neutral almost clinical and fades immediately. Perfect if you’re'},\n {'id': '3_rev_13_1',\n  'product_id': 3,\n  'brand': 'CeraVe',\n  'source': 'review',\n  'rating': 5,\n  'content': 'sensitive to strong scents or want to avoid unnecessary irritants. Despite being low-foaming, it cleanses thoroughly. My scalp feels refreshed but not stripped. It removes sweat, light product buildup, and oil without leaving any residue. I’ve had no itchiness or flakiness since using this consistently. I have color-treated hair, and this shampoo has not caused any fading or dullness. It’s sulfate-free, so it’s safe for colored hair. My hair still looks vibrant and feels soft. Even without a rich lather, my hair feels thoroughly clean after each wash. It rinses out easily and leaves no film or heaviness. I follow with a lightweight conditioner, and my hair feels smooth, hydrated, and manageable. This shampoo delivers on every front it’s gentle, effective, and safe for sensitive scalps and color-treated hair. It’s now my go-to for daily use. If you struggle with hair loss, excess oil, or'},\n {'id': '3_rev_13_2',\n  'product_id': 3,\n  'brand': 'CeraVe',\n  'source': 'review',\n  'rating': 5,\n  'content': 'irritation from traditional shampoos, this is worth trying.'},\n {'id': '3_rev_14_0',\n  'product_id': 3,\n  'brand': 'CeraVe',\n  'source': 'review',\n  'rating': 5,\n  'content': 'I kept getting sebum plugs or something that caused sand-like particles to grow on my scalp and show up when you run your nails across the roots of your hair/scalp (ie- scratch your itchy scalp). I’ve dealt with this and an itchy scalp for decades. I’ve tried all the dandruff, eczema, tea tre oil, baby and apple cinder shampoos. The closet I got was dumping apple cider vinegar on my scalp but then everything smells like it. Turns out using this product along with their conditioner and cleaning thoroughly EVERY DAY, resolves the problem. If you have long hair, make sure you scrub really good. And always shampoo twice in the shower. You want to remove the buildup. Also the shampoo itself is thick and amazing at leaving my hair so soft. It’s a great product . No fancy smells, but that’s what you need.'},\n {'id': '3_rev_15_0',\n  'product_id': 3,\n  'brand': 'CeraVe',\n  'source': 'review',\n  'rating': 4,\n  'content': \"I might have loved this shampoo more a few years ago, when I rarely shampooed my hair, cause so many shampoos irritated my scalp. It is very gentle, and doesn't foam much (which indicates there aren't many surfactants). I recommend this for anyone who has a sensitive scalp, because it does not have SLS and other harsh surfactants. For the price, it is absolutely worth trying. I also think this could help people with very oily hair -- as that oiliness is often caused by the scalp over-correcting for being stripped of its natural oils. Its thick consistency out of the bottle does make it harder to spread all over my hair, and it doesn't quite feel like it leaves my hair truly clean. Because it is so thick, I also end up using much more than other shampoos, though lately I have put on a pea-sized amount on each quadrant of my head, and that does seem to avoid wasting so much. My hair is\"},\n {'id': '3_rev_15_1',\n  'product_id': 3,\n  'brand': 'CeraVe',\n  'source': 'review',\n  'rating': 4,\n  'content': \"short, though, and I assume on long hair and/or thick curls it might even be harder to work it in so it really gets to the scalp. It is unscented, which is great, but it does mean there is a bit of a soapy smell on it -- it's not bad, but it is not exactly something I enjoy. It definitely is color-safe -- even my semi-permanent fantasy colors stay put much more with this than with other shampoos. I do need to add a clarifying shampoo to my routine once a week with this shampoo, as it just doesn't seem it gets my hair very clean. I have to remove a lot of stuff from it, since now that it's short I have to use styling products. I think that I would have liked this much more when I still had long curly/wavy hair that I rarely applied any styling products to.\"},\n {'id': '3_rev_16_0',\n  'product_id': 3,\n  'brand': 'CeraVe',\n  'source': 'review',\n  'rating': 5,\n  'content': 'Surprised I like it so much. I generally trust Cerave as a brand. Ive used a lot of their lotions and washes, and they work how they say they will. I also appreciate that Dermatologists usually recommend Cerave products as well. AND Im also getting tired of how expensive salon quality shampoo/conditioner is getting these days. The affordability of this product, and the trust i have in the brand, swayed me to give this new shampoo a shot. And its surprisingly great! I mean i can do without hyaluronic acid in everything nowadays, but the full length of my hair does feel moisturized! And I feel like it built up a good lather without needing to use too much product, and my scalp feels good so far. its just a good basic shampoo, with typical shampoo smells, that cleans hair well, and is priced so everyone can benefit. And i like all that. I wash every 5-7 days and have thick, dense, frizzy,'},\n {'id': '3_rev_16_1',\n  'product_id': 3,\n  'brand': 'CeraVe',\n  'source': 'review',\n  'rating': 5,\n  'content': 'henna dyed, hispanic hair down to my mid back if that helps at all too.'},\n {'id': '3_rev_17_0',\n  'product_id': 3,\n  'brand': 'CeraVe',\n  'source': 'review',\n  'rating': 5,\n  'content': \"Not much to say besides that it's a great shampoo and is definitely a little different than others I've had. It cleans the hair well but there is a noticable amount of shine, softness, and light weight to my hair after rinsing. I live in an area with super hard water and this helps keep my scalp and hair healthy effectively.\"},\n {'id': '4_rev_18_0',\n  'product_id': 4,\n  'brand': 'Pantene',\n  'source': 'review',\n  'rating': 5,\n  'content': 'Removes grease and is easy to use, leaves your hair smelling amazing and feeling soft.'},\n {'id': '4_rev_19_0',\n  'product_id': 4,\n  'brand': 'Pantene',\n  'source': 'review',\n  'rating': 5,\n  'content': 'Written by account holders wife. I love this shampoo and conditioner and I’m really picky about hair products usually going with very high end products from my hair salon or ulta. But this is one of the exceptions- I just love the way it makes my hair feel. It conditions well without leaving it heavy and weighing it down. I have colored naturally curly baby fine hair so I need special products. This works and gives my hair a gloss look and keeps it healthy and keeps my color healthy between trips to salon. The price is great and I recently broke my dominant arm so the pump has come in handy since I only have use of one hand but honestly I will stick to this since it was getting hard for me to squeeze the bottles with my arthritis. Shampoo quality is great. Moisture level is on point. Leaves your hair soft, shiny, beautiful. If you are looking for a shampoo and conditioner to keep your'},\n {'id': '4_rev_19_1',\n  'product_id': 4,\n  'brand': 'Pantene',\n  'source': 'review',\n  'rating': 5,\n  'content': 'color or non color treated hair shiny and healthy- this is it.'},\n {'id': '4_rev_20_0',\n  'product_id': 4,\n  'brand': 'Pantene',\n  'source': 'review',\n  'rating': 5,\n  'content': \"We've been using the Pantene Pro-V Smooth & Sleek Shampoo and Conditioner set for over a year now, and it continues to impress us. This is a very good shampoo and an even better deal when you subscribe and save. The product consistently delivers great results. Our hair always feels smooth, looks shiny, and the follicles feel rejuvenated and healthy. It truly lives up to its '72 Hour Smoothness' claim, helping to control frizz and leaving our hair feeling fantastic. I highly recommend this product, especially in this larger size, as it truly lasts a long time, making the subscribe and save option even more economical. If you're looking for consistent quality and a great value, look no further!\"},\n {'id': '4_rev_21_0',\n  'product_id': 4,\n  'brand': 'Pantene',\n  'source': 'review',\n  'rating': 5,\n  'content': 'Been using this product for years! Makes my hair look healthy, shiny and smooth. Will only buy Pantene. Works well and reasonably priced. I should be a spokesperson. lol'},\n {'id': '4_rev_22_0',\n  'product_id': 4,\n  'brand': 'Pantene',\n  'source': 'review',\n  'rating': 4,\n  'content': 'I’ve used everything from drugstore staples to salon exclusives but this one truly holds its own especially for dry or color-treated hair like mine. From the first wash I could feel the difference. The shampoo has a rich velvety texture that glides through the hair without resistance. It produces a dense creamy lather that coats the scalp and strands evenly. Unlike some shampoos that just sit in one spot this one spreads easily and I noticed it was easier to set and adjust the angle when applying it especially with wet hands. That made the whole process faster and cleaner. The conditioner is equally impressive thick smooth and instantly softening. It doesn’t just coat the hair it penetrates enough to make a difference. Rinsing it out leaves my hair feeling soft not slippery or waxy. The Miracle Rescue Shot is concentrated but lightweight. After applying it to my drier ends they felt'},\n {'id': '4_rev_22_1',\n  'product_id': 4,\n  'brand': 'Pantene',\n  'source': 'review',\n  'rating': 4,\n  'content': 'noticeably restored stronger smoother and more defined. My hair stayed hydrated and soft for a full 72 hours just like they claimed. The formula helped reduce frizz and made detangling incredibly easy. My color looked fresh and the product didn’t dull or strip it. The fragrance is light clean and long-lasting without being overpowering. I got salon-level results at a fraction of the cost. Rich lather with great spreadability ideal for thorough cleansing. Easier to handle and apply than many shampoos I’ve used. Massive size 52.8 oz total excellent value for daily use. The Miracle Shot gives a noticeable moisture and strength boost. Hair feels clean soft and manageable without buildup. It contains sulfates and silicones which I usually limit though the benefits outweighed that for me. Bottles are large may not fit smaller storage spaces. I noticed mild buildup on finer sections after'},\n {'id': '4_rev_22_2',\n  'product_id': 4,\n  'brand': 'Pantene',\n  'source': 'review',\n  'rating': 4,\n  'content': 'several uses a clarifying shampoo helped. For extremely damaged or protein-starved hair I still needed an occasional deep treatment.'},\n {'id': '4_rev_23_0',\n  'product_id': 4,\n  'brand': 'Pantene',\n  'source': 'review',\n  'rating': 5,\n  'content': 'Nice scent and hydrates my hair. Huge bottle for the price'}]"
     },
     "execution_count": 38,
     "metadata": {},
     "output_type": "execute_result"
    }
   ],
   "source": [
    "records"
   ],
   "metadata": {
    "collapsed": false,
    "ExecuteTime": {
     "end_time": "2025-08-30T17:32:23.686303Z",
     "start_time": "2025-08-30T17:32:23.663163Z"
    }
   },
   "id": "a7ca2b7c7a0d5149"
  },
  {
   "cell_type": "code",
   "execution_count": 39,
   "outputs": [
    {
     "name": "stdout",
     "output_type": "stream",
     "text": [
      "Saved: data/processed/corpus.jsonl with 37 chunks\n"
     ]
    }
   ],
   "source": [
    "out_file = OUT / \"corpus.jsonl\"\n",
    "with out_file.open(\"w\", encoding=\"utf-8\") as f:\n",
    "    for r in records:\n",
    "        f.write(json.dumps(r, ensure_ascii=False) + \"\\n\")\n",
    "\n",
    "print(\"Saved:\", out_file, \"with\", len(records), \"chunks\")"
   ],
   "metadata": {
    "collapsed": false,
    "ExecuteTime": {
     "end_time": "2025-08-30T17:32:23.711349Z",
     "start_time": "2025-08-30T17:32:23.671832Z"
    }
   },
   "id": "8b912adae2a333fa"
  },
  {
   "cell_type": "code",
   "execution_count": 40,
   "outputs": [
    {
     "name": "stdout",
     "output_type": "stream",
     "text": [
      "3_rev_15_0 review\n",
      "I might have loved this shampoo more a few years ago, when I rarely shampooed my hair, cause so many shampoos irritated my scalp. It is very gentle, and doesn't foam much (which indicates there aren't\n",
      "------------------------------------------------------------\n",
      "2_rev_6_0 review\n",
      "Only washed my hair with it once. But Holy Moly!! What a great job it did with my hair. It was dry and brittle beforehand. One wash and it feels like it was freshly washed and cut. No more brittle end\n",
      "------------------------------------------------------------\n",
      "2_rev_7_0 review\n",
      "I bought both the Dove 'daily moisture' shampoo and the Dove 'daily moisturizer' conditioner. I chose this specific formula because I have thick, wavy hair that gets quite dry - and this line (accordi\n",
      "------------------------------------------------------------\n",
      "2_rev_9_0 review\n",
      "This is a great hair care line! Dove has formulas that clean and nourish hair at a drugstore price. To me, this performs better than the salon formulas that are sulfate-free. I alternate Dove with Gar\n",
      "------------------------------------------------------------\n",
      "2_rev_8_0 review\n",
      "Love the shampoo & how soft my hair is after washing it\n",
      "------------------------------------------------------------\n"
     ]
    }
   ],
   "source": [
    "# checking\n",
    "import random\n",
    "for r in random.sample(records, min(5, len(records))):\n",
    "    print(r[\"id\"], r[\"source\"])\n",
    "    print(r[\"content\"][:200])\n",
    "    print(\"-\"*60)"
   ],
   "metadata": {
    "collapsed": false,
    "ExecuteTime": {
     "end_time": "2025-08-30T17:32:23.711629Z",
     "start_time": "2025-08-30T17:32:23.675587Z"
    }
   },
   "id": "2a17487650d2c809"
  }
 ],
 "metadata": {
  "kernelspec": {
   "display_name": "Python 3",
   "language": "python",
   "name": "python3"
  },
  "language_info": {
   "codemirror_mode": {
    "name": "ipython",
    "version": 2
   },
   "file_extension": ".py",
   "mimetype": "text/x-python",
   "name": "python",
   "nbconvert_exporter": "python",
   "pygments_lexer": "ipython2",
   "version": "2.7.6"
  }
 },
 "nbformat": 4,
 "nbformat_minor": 5
}
