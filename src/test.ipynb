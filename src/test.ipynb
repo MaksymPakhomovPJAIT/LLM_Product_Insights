{
 "cells": [
  {
   "cell_type": "code",
   "execution_count": 2,
   "outputs": [
    {
     "name": "stdout",
     "output_type": "stream",
     "text": [
      "Embedding vector length: 1536\n",
      "Chat response: Hello! How can I assist you today?\n"
     ]
    }
   ],
   "source": [
    "from dotenv import load_dotenv\n",
    "from openai import OpenAI\n",
    "import os\n",
    "\n",
    "load_dotenv()\n",
    "client = OpenAI(api_key=os.getenv(\"OPENAI_API_KEY\"))\n",
    "\n",
    "try:\n",
    "    emb = client.embeddings.create(\n",
    "        model=\"text-embedding-3-small\",\n",
    "        input=\"Hello from DataSpell!\"\n",
    "    )\n",
    "    print(\"Embedding vector length:\", len(emb.data[0].embedding))\n",
    "\n",
    "    chat = client.chat.completions.create(\n",
    "        model=\"gpt-4o-mini\",\n",
    "        messages=[{\"role\": \"user\", \"content\": \"Write me a 1-line greeting for testing.\"}]\n",
    "    )\n",
    "    print(\"Chat response:\", chat.choices[0].message.content)\n",
    "\n",
    "except Exception as e:\n",
    "    print(\"Error:\", e)"
   ],
   "metadata": {
    "collapsed": false,
    "ExecuteTime": {
     "end_time": "2025-08-31T18:35:21.900052Z",
     "start_time": "2025-08-31T18:35:19.566349Z"
    }
   },
   "id": "550b62248e446f21"
  }
 ],
 "metadata": {
  "kernelspec": {
   "display_name": "Python 3",
   "language": "python",
   "name": "python3"
  },
  "language_info": {
   "codemirror_mode": {
    "name": "ipython",
    "version": 2
   },
   "file_extension": ".py",
   "mimetype": "text/x-python",
   "name": "python",
   "nbconvert_exporter": "python",
   "pygments_lexer": "ipython2",
   "version": "2.7.6"
  }
 },
 "nbformat": 4,
 "nbformat_minor": 5
}
