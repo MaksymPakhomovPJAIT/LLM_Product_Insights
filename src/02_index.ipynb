{
 "cells": [
  {
   "cell_type": "code",
   "execution_count": 12,
   "outputs": [],
   "source": [
    "import faiss"
   ],
   "metadata": {
    "collapsed": false,
    "ExecuteTime": {
     "end_time": "2025-08-30T17:32:32.247738Z",
     "start_time": "2025-08-30T17:32:32.235263Z"
    }
   },
   "id": "83177ad1280fc258"
  },
  {
   "cell_type": "code",
   "execution_count": 13,
   "outputs": [],
   "source": [
    "import json, numpy as np, os\n",
    "from pathlib import Path\n",
    "from dotenv import load_dotenv\n",
    "from openai import OpenAI\n",
    "\n",
    "load_dotenv()\n",
    "client = OpenAI(api_key=os.getenv(\"OPENAI_API_KEY\"))\n",
    "\n",
    "INP = Path(\"data/processed/corpus.jsonl\")\n",
    "IDX_DIR = Path(\"index\")\n",
    "IDX_DIR.mkdir(parents=True, exist_ok=True)\n",
    "\n",
    "EMBED_MODEL = \"text-embedding-3-small\""
   ],
   "metadata": {
    "collapsed": false,
    "ExecuteTime": {
     "end_time": "2025-08-30T17:32:32.259379Z",
     "start_time": "2025-08-30T17:32:32.242753Z"
    }
   },
   "id": "c88480600e7c8db"
  },
  {
   "cell_type": "code",
   "execution_count": 14,
   "outputs": [
    {
     "data": {
      "text/plain": "(37,\n {'id': '1_desc_0',\n  'product_id': 1,\n  'brand': 'Head & Shoulders',\n  'source': 'description',\n  'content': \"Confidence looks good on you with Head & Shoulders Classic Clean Anti-Dandruff Shampoo. The rich-lathering formula delivers proven protection from flakes, itch, oil and dryness* and is brought to you by America’s #1 dandruff shampoo brand.† This formula is gentle enough on hair for daily use—even for color-treated hair—and is the perfect first step in your daily haircare routine, so you can start every day with your head held high. *flakes and itch associated with dandruff †based on volume sales Regular use of Head & Shoulders anti dandruff products nourish your scalp three surface layers deep to prevent dryness, flakes and itch, associated with dandruff. The Head & Shoulders collection includes clarifying shampoos, volumizing conditioners, and 2 in 1 combos, so you can introduce dandruff treatment to every step of your hair care routine. With a pH-balanced formula brought to you by America's #1 dermatologist recommended brand, you can count on Head & Shoulders to combat seborrheic dermatitis, and other irritable and itchy scalp conditions associated with dandruff. Head & Shoulders products come in a variety of scents and formulas, and include ingredients like almond oil, tea tree oil, lemon extract, and peppermint. The shampoo & conditioner system are safe to use on color treated, curly or textured hair types, compared to a non-conditioning shampoo.\"})"
     },
     "execution_count": 14,
     "metadata": {},
     "output_type": "execute_result"
    }
   ],
   "source": [
    "docs = [json.loads(l) for l in INP.read_text(encoding=\"utf-8\").splitlines()]\n",
    "len(docs), docs[0]"
   ],
   "metadata": {
    "collapsed": false,
    "ExecuteTime": {
     "end_time": "2025-08-30T17:32:32.265317Z",
     "start_time": "2025-08-30T17:32:32.260732Z"
    }
   },
   "id": "113e074c47c4d807"
  },
  {
   "cell_type": "code",
   "execution_count": 15,
   "outputs": [],
   "source": [
    "def embed_texts(texts, model=EMBED_MODEL, batch=128):\n",
    "    vectors = []\n",
    "    for i in range(0, len(texts), batch):\n",
    "        batch_texts = texts[i:i+batch]\n",
    "        resp = client.embeddings.create(model=model, input=batch_texts)\n",
    "        vectors.extend([d.embedding for d in resp.data])\n",
    "    return np.array(vectors, dtype=\"float32\")"
   ],
   "metadata": {
    "collapsed": false,
    "ExecuteTime": {
     "end_time": "2025-08-30T17:32:32.289338Z",
     "start_time": "2025-08-30T17:32:32.267779Z"
    }
   },
   "id": "d91bd2fdf27e35a0"
  },
  {
   "cell_type": "code",
   "execution_count": 16,
   "outputs": [
    {
     "data": {
      "text/plain": "(37, 1536)"
     },
     "execution_count": 16,
     "metadata": {},
     "output_type": "execute_result"
    }
   ],
   "source": [
    "texts = [d[\"content\"] for d in docs]\n",
    "vecs = embed_texts(texts)\n",
    "vecs.shape"
   ],
   "metadata": {
    "collapsed": false,
    "ExecuteTime": {
     "end_time": "2025-08-30T17:32:33.384031Z",
     "start_time": "2025-08-30T17:32:32.274671Z"
    }
   },
   "id": "1e0a22655af584b8"
  },
  {
   "cell_type": "code",
   "execution_count": 17,
   "outputs": [
    {
     "name": "stdout",
     "output_type": "stream",
     "text": [
      "Indexed 37 chunks. Index size: 37\n"
     ]
    }
   ],
   "source": [
    "dim = vecs.shape[1]\n",
    "faiss.normalize_L2(vecs)\n",
    "index = faiss.IndexFlatIP(dim)\n",
    "index.add(vecs)\n",
    "\n",
    "faiss.write_index(index, str(IDX_DIR / \"faiss.index\"))\n",
    "\n",
    "\n",
    "meta_file = IDX_DIR / \"meta.jsonl\"\n",
    "meta_file.write_text(\"\\n\".join(json.dumps(d, ensure_ascii=False) for d in docs), encoding=\"utf-8\")\n",
    "\n",
    "print(f\"Indexed {len(docs)} chunks. Index size:\", index.ntotal)"
   ],
   "metadata": {
    "collapsed": false,
    "ExecuteTime": {
     "end_time": "2025-08-30T17:32:33.390609Z",
     "start_time": "2025-08-30T17:32:33.381902Z"
    }
   },
   "id": "c26d34e3e9b1129e"
  },
  {
   "cell_type": "code",
   "execution_count": 18,
   "outputs": [
    {
     "name": "stdout",
     "output_type": "stream",
     "text": [
      "Score: 0.6620045900344849 | Source: description | Brand: Head & Shoulders\n",
      "Confidence looks good on you with Head & Shoulders Classic Clean Anti-Dandruff Shampoo. The rich-lathering formula delivers proven protection from flakes, itch, oil and dryness* and is brought to you ...\n",
      "------------------------------------------------------------\n",
      "Score: 0.5882282257080078 | Source: review | Brand: CeraVe\n",
      "Wow! Saved my scalp and hair! I have 1/2a/2b hair—fine, medium density, low porosity, and protein sensitive, with a very sensitive scalp. I used to use Head & Shoulders (I tried everything they offer)...\n",
      "------------------------------------------------------------\n",
      "Score: 0.5673204660415649 | Source: review | Brand: CeraVe\n",
      "I kept getting sebum plugs or something that caused sand-like particles to grow on my scalp and show up when you run your nails across the roots of your hair/scalp (ie- scratch your itchy scalp). I’ve...\n",
      "------------------------------------------------------------\n"
     ]
    }
   ],
   "source": [
    "def embed_query(q):\n",
    "    e = client.embeddings.create(model=EMBED_MODEL, input=[q]).data[0].embedding\n",
    "    v = np.array(e, dtype=\"float32\")\n",
    "    return v / np.linalg.norm(v)\n",
    "\n",
    "def search(query, k=3):\n",
    "    v = embed_query(query)\n",
    "    D, I = index.search(np.array([v]), k)\n",
    "    return [(docs[i], float(D[0][j])) for j, i in enumerate(I[0])]\n",
    "\n",
    "hits = search(\"Which shampoo is best for dandruff?\", k=3)\n",
    "for h in hits:\n",
    "    print(\"Score:\", h[1], \"| Source:\", h[0][\"source\"], \"| Brand:\", h[0].get(\"brand\", \"?\"))\n",
    "    print(h[0][\"content\"][:200] + \"...\")\n",
    "    print(\"-\"*60)"
   ],
   "metadata": {
    "collapsed": false,
    "ExecuteTime": {
     "end_time": "2025-08-30T17:32:34.301017Z",
     "start_time": "2025-08-30T17:32:33.395767Z"
    }
   },
   "id": "dc5fd42be8664b7b"
  }
 ],
 "metadata": {
  "kernelspec": {
   "display_name": "Python 3",
   "language": "python",
   "name": "python3"
  },
  "language_info": {
   "codemirror_mode": {
    "name": "ipython",
    "version": 2
   },
   "file_extension": ".py",
   "mimetype": "text/x-python",
   "name": "python",
   "nbconvert_exporter": "python",
   "pygments_lexer": "ipython2",
   "version": "2.7.6"
  }
 },
 "nbformat": 4,
 "nbformat_minor": 5
}
