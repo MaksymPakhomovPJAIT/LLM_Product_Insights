{
 "cells": [
  {
   "cell_type": "code",
   "execution_count": 1,
   "id": "initial_id",
   "metadata": {
    "collapsed": true,
    "ExecuteTime": {
     "end_time": "2025-08-30T17:35:43.675574Z",
     "start_time": "2025-08-30T17:35:43.149522Z"
    }
   },
   "outputs": [],
   "source": [
    "import json, os, numpy as np, faiss\n",
    "from pathlib import Path\n",
    "from dotenv import load_dotenv\n",
    "from openai import OpenAI\n",
    "\n",
    "load_dotenv()\n",
    "client = OpenAI(api_key=os.getenv(\"OPENAI_API_KEY\"))\n",
    "\n",
    "IDX_DIR = Path(\"index\")\n",
    "META_PATH = IDX_DIR / \"meta.jsonl\"\n",
    "INDEX_PATH = IDX_DIR / \"faiss.index\"\n",
    "\n",
    "docs = [json.loads(l) for l in META_PATH.read_text(encoding=\"utf-8\").splitlines()]\n",
    "index = faiss.read_index(str(INDEX_PATH))\n",
    "\n",
    "EMBED_MODEL = \"text-embedding-3-small\"\n",
    "CHAT_MODEL = \"gpt-4o-mini\""
   ]
  },
  {
   "cell_type": "code",
   "execution_count": 2,
   "outputs": [],
   "source": [
    "def embed_query(q: str):\n",
    "    e = client.embeddings.create(model=EMBED_MODEL, input=[q]).data[0].embedding\n",
    "    v = np.array(e, dtype=\"float32\")\n",
    "    return v / np.linalg.norm(v)\n",
    "\n",
    "def search(query: str, k=6, brand=None, min_score=0.3):\n",
    "    v = embed_query(query)\n",
    "    D, I = index.search(np.array([v]), k*2)  # over-retrieve then filter\n",
    "    hits = []\n",
    "    for score, idx in zip(D[0], I[0]):\n",
    "        if idx < 0:\n",
    "            continue\n",
    "        d = docs[idx]\n",
    "        if brand and d.get(\"brand\") != brand:\n",
    "            continue\n",
    "        if score < min_score:\n",
    "            continue\n",
    "        d = d.copy()\n",
    "        d[\"score\"] = float(score)\n",
    "        hits.append(d)\n",
    "        if len(hits) >= k:\n",
    "            break\n",
    "    return hits"
   ],
   "metadata": {
    "collapsed": false,
    "ExecuteTime": {
     "end_time": "2025-08-30T17:37:01.317871Z",
     "start_time": "2025-08-30T17:37:01.310163Z"
    }
   },
   "id": "192fd958c9a92da6"
  },
  {
   "cell_type": "code",
   "execution_count": 3,
   "outputs": [],
   "source": [
    "SYSTEM = (\n",
    "    \"You are a careful assistant answering questions about consumer shampoos. \"\n",
    "    \"ONLY use the provided context; if the answer isn't covered, say you don't know. \"\n",
    "    \"Be concise, compare products when relevant, and include caveats (e.g., sensitive scalp).\"\n",
    ")\n",
    "\n",
    "def build_context(docs):\n",
    "    lines = []\n",
    "    for i, d in enumerate(docs, start=1):\n",
    "        brand = d.get(\"brand\", \"?\")\n",
    "        src = d.get(\"source\", \"?\")\n",
    "        lines.append(f\"[{i}] {src.upper()} | Brand: {brand} | score={d['score']:.3f}\\n{d['content']}\")\n",
    "    return \"\\n\\n\".join(lines)\n",
    "\n",
    "def answer(query: str, k=6, brand=None):\n",
    "    ctx_docs = search(query, k=k, brand=brand)\n",
    "    context = build_context(ctx_docs) if ctx_docs else \"No context.\"\n",
    "    messages = [\n",
    "        {\"role\": \"system\", \"content\": SYSTEM},\n",
    "        {\"role\": \"user\", \"content\": f\"Context:\\n{context}\\n\\nQuestion: {query}\\n\\nIf you cite, reference chunks by [number].\"}\n",
    "    ]\n",
    "    resp = client.chat.completions.create(\n",
    "        model=CHAT_MODEL,\n",
    "        messages=messages,\n",
    "        temperature=0.2,\n",
    "        max_tokens=350\n",
    "    )\n",
    "    return resp.choices[0].message.content, ctx_docs"
   ],
   "metadata": {
    "collapsed": false,
    "ExecuteTime": {
     "end_time": "2025-08-30T17:37:20.489515Z",
     "start_time": "2025-08-30T17:37:20.473628Z"
    }
   },
   "id": "1160775dfe61f35c"
  },
  {
   "cell_type": "code",
   "execution_count": 4,
   "outputs": [
    {
     "name": "stdout",
     "output_type": "stream",
     "text": [
      "For dandruff and a sensitive scalp, **Head & Shoulders Classic Clean Anti-Dandruff Shampoo** is specifically designed to combat flakes, itch, and dryness associated with dandruff, making it a strong choice for those dealing with these issues [2]. It is also gentle enough for daily use and safe for color-treated hair.\n",
      "\n",
      "On the other hand, **CeraVe Hydrating Shampoo** is highly recommended for sensitive scalps due to its fragrance-free formula and lack of harsh surfactants. Users have reported it effectively keeps their scalp itch-free and cleanses without leaving residue [1][3][4]. However, it is not specifically marketed as an anti-dandruff shampoo.\n",
      "\n",
      "If dandruff is the primary concern, Head & Shoulders may be more effective, while CeraVe is better suited for those with a sensitive scalp who want to avoid irritants.\n",
      "\n",
      "— Sources —\n",
      "[1] review | CeraVe | score=0.647\n",
      "[2] description | Head & Shoulders | score=0.639\n",
      "[3] review | CeraVe | score=0.630\n",
      "[4] review | CeraVe | score=0.616\n",
      "[5] review | Head & Shoulders | score=0.573\n",
      "[6] review | CeraVe | score=0.564\n"
     ]
    }
   ],
   "source": [
    "q1 = \"Which shampoo seems best for dandruff and a sensitive scalp?\"\n",
    "ans, ctx = answer(q1, k=6)\n",
    "print(ans)\n",
    "print(\"\\n— Sources —\")\n",
    "for i, d in enumerate(ctx,  start=1):\n",
    "    print(f\"[{i}] {d['source']} | {d.get('brand','?')} | score={d['score']:.3f}\")"
   ],
   "metadata": {
    "collapsed": false,
    "ExecuteTime": {
     "end_time": "2025-08-30T17:37:30.248252Z",
     "start_time": "2025-08-30T17:37:25.991385Z"
    }
   },
   "id": "bb86701c2644a36d"
  },
  {
   "cell_type": "code",
   "execution_count": 5,
   "outputs": [
    {
     "name": "stdout",
     "output_type": "stream",
     "text": [
      "Yes, both Head & Shoulders and Dove's Dryness & Itch Relief dandruff shampoo are noted to cause dryness and buildup. The reviewer mentioned that these products left a \"gross residue\" on their hair, making it feel both dry and greasy, and they experienced itchiness by the next day [1]. Additionally, the Pantene shampoo was mentioned to potentially cause mild buildup on finer sections of hair, despite its benefits [5].\n",
      "[1] review | CeraVe | score=0.471\n",
      "[2] review | Dove | score=0.471\n",
      "[3] review | CeraVe | score=0.462\n",
      "[4] review | CeraVe | score=0.431\n",
      "[5] review | Pantene | score=0.425\n",
      "[6] review | CeraVe | score=0.425\n"
     ]
    }
   ],
   "source": [
    "q2 = \"Does any product cause dryness or buildup according to reviews?\"\n",
    "ans, ctx = answer(q2, k=6)\n",
    "print(ans)\n",
    "for i, d in enumerate(ctx,  start=1):\n",
    "    print(f\"[{i}] {d['source']} | {d.get('brand','?')} | score={d['score']:.3f}\")"
   ],
   "metadata": {
    "collapsed": false,
    "ExecuteTime": {
     "end_time": "2025-08-30T17:38:30.659574Z",
     "start_time": "2025-08-30T17:38:27.561548Z"
    }
   },
   "id": "8cd68c626b13c7a1"
  },
  {
   "cell_type": "code",
   "execution_count": 6,
   "outputs": [
    {
     "name": "stdout",
     "output_type": "stream",
     "text": [
      "When comparing Head & Shoulders and CeraVe for oil control and color-treated hair, CeraVe appears to be the more favorable option, especially for those with sensitive scalps.\n",
      "\n",
      "**Oil Control:**\n",
      "- **CeraVe Gentle Hydrating Shampoo**: Users report that it effectively balances oil production, allowing them to go longer between washes without looking greasy. It has been noted to help with oiliness while maintaining scalp health, particularly for those who typically need to wash their hair daily due to oil buildup [1][2].\n",
      "- **Head & Shoulders Classic Clean**: While it offers protection against oil and dryness, its primary focus is on dandruff treatment rather than oil control specifically. It is designed to combat flakes and itchiness associated with dandruff, which may not directly address oiliness as effectively as CeraVe [4].\n",
      "\n",
      "**Color-Treated Hair:**\n",
      "- **CeraVe**: This shampoo is explicitly stated to be safe for color-treated hair, with users confirming that it does not cause fading or dullness, maintaining the vibrancy of color-treated locks [2][6].\n",
      "- **Head & Shoulders**: It is also safe for color-treated hair, but its primary formulation is aimed at dandruff prevention rather than moisture retention or color preservation [4].\n",
      "\n",
      "In summary, for those prioritizing oil control and the health of color-treated hair, CeraVe is likely the better choice, especially for individuals with sensitive scalps. Head & Shoulders may be suitable for those specifically dealing with dandruff but may not provide the same level of oil management or color care.\n",
      "[1] review | CeraVe | score=0.638\n",
      "[2] description | CeraVe | score=0.603\n",
      "[3] review | CeraVe | score=0.589\n",
      "[4] description | Head & Shoulders | score=0.558\n",
      "[5] review | CeraVe | score=0.524\n",
      "[6] review | CeraVe | score=0.516\n"
     ]
    }
   ],
   "source": [
    "q3 = \"Compare Head & Shoulders vs CeraVe for oil control and color-treated hair.\"\n",
    "ans, ctx = answer(q3, k=6)\n",
    "print(ans)\n",
    "for i, d in enumerate(ctx,  start=1):\n",
    "    print(f\"[{i}] {d['source']} | {d.get('brand','?')} | score={d['score']:.3f}\")"
   ],
   "metadata": {
    "collapsed": false,
    "ExecuteTime": {
     "end_time": "2025-08-30T17:39:07.221448Z",
     "start_time": "2025-08-30T17:38:59.336211Z"
    }
   },
   "id": "e45bf90f5983d631"
  }
 ],
 "metadata": {
  "kernelspec": {
   "display_name": "Python 3",
   "language": "python",
   "name": "python3"
  },
  "language_info": {
   "codemirror_mode": {
    "name": "ipython",
    "version": 2
   },
   "file_extension": ".py",
   "mimetype": "text/x-python",
   "name": "python",
   "nbconvert_exporter": "python",
   "pygments_lexer": "ipython2",
   "version": "2.7.6"
  }
 },
 "nbformat": 4,
 "nbformat_minor": 5
}
